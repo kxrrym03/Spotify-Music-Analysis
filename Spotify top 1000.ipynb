{
 "cells": [
  {
   "cell_type": "code",
   "execution_count": 2,
   "id": "8326c9a3-dc5e-4cdf-85da-a35d79fe0a7f",
   "metadata": {},
   "outputs": [
    {
     "name": "stdout",
     "output_type": "stream",
     "text": [
      "(1000, 8)\n"
     ]
    },
    {
     "data": {
      "text/html": [
       "<div>\n",
       "<style scoped>\n",
       "    .dataframe tbody tr th:only-of-type {\n",
       "        vertical-align: middle;\n",
       "    }\n",
       "\n",
       "    .dataframe tbody tr th {\n",
       "        vertical-align: top;\n",
       "    }\n",
       "\n",
       "    .dataframe thead th {\n",
       "        text-align: right;\n",
       "    }\n",
       "</style>\n",
       "<table border=\"1\" class=\"dataframe\">\n",
       "  <thead>\n",
       "    <tr style=\"text-align: right;\">\n",
       "      <th></th>\n",
       "      <th>track_name</th>\n",
       "      <th>artist</th>\n",
       "      <th>album</th>\n",
       "      <th>release_date</th>\n",
       "      <th>popularity</th>\n",
       "      <th>spotify_url</th>\n",
       "      <th>id</th>\n",
       "      <th>duration_min</th>\n",
       "    </tr>\n",
       "  </thead>\n",
       "  <tbody>\n",
       "    <tr>\n",
       "      <th>0</th>\n",
       "      <td>All The Stars (with SZA)</td>\n",
       "      <td>Kendrick Lamar</td>\n",
       "      <td>Black Panther The Album Music From And Inspire...</td>\n",
       "      <td>2/9/2018</td>\n",
       "      <td>95</td>\n",
       "      <td>https://open.spotify.com/track/3GCdLUSnKSMJhs4...</td>\n",
       "      <td>3GCdLUSnKSMJhs4Tj6CV3s</td>\n",
       "      <td>3.869767</td>\n",
       "    </tr>\n",
       "    <tr>\n",
       "      <th>1</th>\n",
       "      <td>Starboy</td>\n",
       "      <td>The Weeknd</td>\n",
       "      <td>Starboy</td>\n",
       "      <td>11/25/2016</td>\n",
       "      <td>90</td>\n",
       "      <td>https://open.spotify.com/track/7MXVkk9YMctZqd1...</td>\n",
       "      <td>7MXVkk9YMctZqd1Srtv4MB</td>\n",
       "      <td>3.840883</td>\n",
       "    </tr>\n",
       "    <tr>\n",
       "      <th>2</th>\n",
       "      <td>Senorita</td>\n",
       "      <td>Shawn Mendes</td>\n",
       "      <td>Senorita</td>\n",
       "      <td>6/21/2019</td>\n",
       "      <td>80</td>\n",
       "      <td>https://open.spotify.com/track/0TK2YIli7K1leLo...</td>\n",
       "      <td>0TK2YIli7K1leLovkQiNik</td>\n",
       "      <td>3.182667</td>\n",
       "    </tr>\n",
       "    <tr>\n",
       "      <th>3</th>\n",
       "      <td>Heat Waves</td>\n",
       "      <td>Glass Animals</td>\n",
       "      <td>Dreamland</td>\n",
       "      <td>8/7/2020</td>\n",
       "      <td>87</td>\n",
       "      <td>https://open.spotify.com/track/3USxtqRwSYz57Ew...</td>\n",
       "      <td>3USxtqRwSYz57Ewm6wWRMp</td>\n",
       "      <td>3.980083</td>\n",
       "    </tr>\n",
       "    <tr>\n",
       "      <th>4</th>\n",
       "      <td>Let Me Love You</td>\n",
       "      <td>DJ Snake</td>\n",
       "      <td>Encore</td>\n",
       "      <td>8/5/2016</td>\n",
       "      <td>87</td>\n",
       "      <td>https://open.spotify.com/track/0lYBSQXN6rCTvUZ...</td>\n",
       "      <td>0lYBSQXN6rCTvUZvg9S0lU</td>\n",
       "      <td>3.432433</td>\n",
       "    </tr>\n",
       "  </tbody>\n",
       "</table>\n",
       "</div>"
      ],
      "text/plain": [
       "                 track_name          artist  \\\n",
       "0  All The Stars (with SZA)  Kendrick Lamar   \n",
       "1                   Starboy      The Weeknd   \n",
       "2                  Senorita    Shawn Mendes   \n",
       "3                Heat Waves   Glass Animals   \n",
       "4           Let Me Love You        DJ Snake   \n",
       "\n",
       "                                               album release_date  popularity  \\\n",
       "0  Black Panther The Album Music From And Inspire...     2/9/2018          95   \n",
       "1                                            Starboy   11/25/2016          90   \n",
       "2                                           Senorita    6/21/2019          80   \n",
       "3                                          Dreamland     8/7/2020          87   \n",
       "4                                             Encore     8/5/2016          87   \n",
       "\n",
       "                                         spotify_url                      id  \\\n",
       "0  https://open.spotify.com/track/3GCdLUSnKSMJhs4...  3GCdLUSnKSMJhs4Tj6CV3s   \n",
       "1  https://open.spotify.com/track/7MXVkk9YMctZqd1...  7MXVkk9YMctZqd1Srtv4MB   \n",
       "2  https://open.spotify.com/track/0TK2YIli7K1leLo...  0TK2YIli7K1leLovkQiNik   \n",
       "3  https://open.spotify.com/track/3USxtqRwSYz57Ew...  3USxtqRwSYz57Ewm6wWRMp   \n",
       "4  https://open.spotify.com/track/0lYBSQXN6rCTvUZ...  0lYBSQXN6rCTvUZvg9S0lU   \n",
       "\n",
       "   duration_min  \n",
       "0      3.869767  \n",
       "1      3.840883  \n",
       "2      3.182667  \n",
       "3      3.980083  \n",
       "4      3.432433  "
      ]
     },
     "execution_count": 2,
     "metadata": {},
     "output_type": "execute_result"
    }
   ],
   "source": [
    "import pandas as pd\n",
    "import numpy as np\n",
    "import seaborn as sns\n",
    "import matplotlib.pyplot as plt\n",
    "from sklearn.model_selection import train_test_split\n",
    "from sklearn.linear_model import LinearRegression\n",
    "from sklearn.metrics import mean_squared_error, mean_absolute_error, r2_score\n",
    "import warnings\n",
    "warnings.filterwarnings('ignore')\n",
    "from sklearn.preprocessing import StandardScaler\n",
    "\n",
    "data = pd.read_csv(r'C:\\Users\\Kerry\\spotify_top_1000_tracks.csv')\n",
    "print(data.shape)\n",
    "data.head()"
   ]
  },
  {
   "cell_type": "code",
   "execution_count": 3,
   "id": "4a583306-baf4-45bd-a13d-9453e6cda648",
   "metadata": {},
   "outputs": [
    {
     "data": {
      "text/plain": [
       "track_name      0\n",
       "artist          0\n",
       "album           0\n",
       "release_date    0\n",
       "popularity      0\n",
       "spotify_url     0\n",
       "id              0\n",
       "duration_min    0\n",
       "dtype: int64"
      ]
     },
     "execution_count": 3,
     "metadata": {},
     "output_type": "execute_result"
    }
   ],
   "source": [
    "data.isnull().sum()"
   ]
  },
  {
   "cell_type": "code",
   "execution_count": 4,
   "id": "f881c8a3-f141-442e-aef5-5c14e2e91ee9",
   "metadata": {},
   "outputs": [
    {
     "data": {
      "text/plain": [
       "0"
      ]
     },
     "execution_count": 4,
     "metadata": {},
     "output_type": "execute_result"
    }
   ],
   "source": [
    "data.duplicated().sum()"
   ]
  },
  {
   "cell_type": "code",
   "execution_count": 5,
   "id": "290e82cb-4cbd-47c9-817b-44f3a74ecdf5",
   "metadata": {},
   "outputs": [
    {
     "name": "stdout",
     "output_type": "stream",
     "text": [
      "<class 'pandas.core.frame.DataFrame'>\n",
      "RangeIndex: 1000 entries, 0 to 999\n",
      "Data columns (total 8 columns):\n",
      " #   Column        Non-Null Count  Dtype  \n",
      "---  ------        --------------  -----  \n",
      " 0   track_name    1000 non-null   object \n",
      " 1   artist        1000 non-null   object \n",
      " 2   album         1000 non-null   object \n",
      " 3   release_date  1000 non-null   object \n",
      " 4   popularity    1000 non-null   int64  \n",
      " 5   spotify_url   1000 non-null   object \n",
      " 6   id            1000 non-null   object \n",
      " 7   duration_min  1000 non-null   float64\n",
      "dtypes: float64(1), int64(1), object(6)\n",
      "memory usage: 62.6+ KB\n"
     ]
    }
   ],
   "source": [
    "data.info()"
   ]
  },
  {
   "cell_type": "code",
   "execution_count": 6,
   "id": "0b29dd57-4476-4b39-aea7-5d78ccf3ca4f",
   "metadata": {},
   "outputs": [
    {
     "data": {
      "text/html": [
       "<div>\n",
       "<style scoped>\n",
       "    .dataframe tbody tr th:only-of-type {\n",
       "        vertical-align: middle;\n",
       "    }\n",
       "\n",
       "    .dataframe tbody tr th {\n",
       "        vertical-align: top;\n",
       "    }\n",
       "\n",
       "    .dataframe thead th {\n",
       "        text-align: right;\n",
       "    }\n",
       "</style>\n",
       "<table border=\"1\" class=\"dataframe\">\n",
       "  <thead>\n",
       "    <tr style=\"text-align: right;\">\n",
       "      <th></th>\n",
       "      <th>popularity</th>\n",
       "      <th>duration_min</th>\n",
       "    </tr>\n",
       "  </thead>\n",
       "  <tbody>\n",
       "    <tr>\n",
       "      <th>count</th>\n",
       "      <td>1000.000000</td>\n",
       "      <td>1000.000000</td>\n",
       "    </tr>\n",
       "    <tr>\n",
       "      <th>mean</th>\n",
       "      <td>56.669000</td>\n",
       "      <td>3.318516</td>\n",
       "    </tr>\n",
       "    <tr>\n",
       "      <th>std</th>\n",
       "      <td>28.192805</td>\n",
       "      <td>0.849591</td>\n",
       "    </tr>\n",
       "    <tr>\n",
       "      <th>min</th>\n",
       "      <td>0.000000</td>\n",
       "      <td>0.969150</td>\n",
       "    </tr>\n",
       "    <tr>\n",
       "      <th>25%</th>\n",
       "      <td>37.000000</td>\n",
       "      <td>2.754021</td>\n",
       "    </tr>\n",
       "    <tr>\n",
       "      <th>50%</th>\n",
       "      <td>68.000000</td>\n",
       "      <td>3.293833</td>\n",
       "    </tr>\n",
       "    <tr>\n",
       "      <th>75%</th>\n",
       "      <td>79.000000</td>\n",
       "      <td>3.745721</td>\n",
       "    </tr>\n",
       "    <tr>\n",
       "      <th>max</th>\n",
       "      <td>97.000000</td>\n",
       "      <td>9.497883</td>\n",
       "    </tr>\n",
       "  </tbody>\n",
       "</table>\n",
       "</div>"
      ],
      "text/plain": [
       "        popularity  duration_min\n",
       "count  1000.000000   1000.000000\n",
       "mean     56.669000      3.318516\n",
       "std      28.192805      0.849591\n",
       "min       0.000000      0.969150\n",
       "25%      37.000000      2.754021\n",
       "50%      68.000000      3.293833\n",
       "75%      79.000000      3.745721\n",
       "max      97.000000      9.497883"
      ]
     },
     "execution_count": 6,
     "metadata": {},
     "output_type": "execute_result"
    }
   ],
   "source": [
    "data.describe()"
   ]
  },
  {
   "cell_type": "code",
   "execution_count": 7,
   "id": "64ca54c2-3365-462d-9853-9882a91237dd",
   "metadata": {},
   "outputs": [
    {
     "name": "stdout",
     "output_type": "stream",
     "text": [
      "artist\n",
      "The Weeknd       26\n",
      "Taylor Swift     25\n",
      "Avril Lavigne    21\n",
      "Alan Walker      14\n",
      "Ariana Grande    12\n",
      "Selena Gomez     12\n",
      "Ed Sheeran       11\n",
      "Justin Bieber    11\n",
      "Katy Perry        9\n",
      "Badscandal        9\n",
      "Name: count, dtype: int64\n"
     ]
    }
   ],
   "source": [
    "print(data['artist'].value_counts().head(10))"
   ]
  },
  {
   "cell_type": "code",
   "execution_count": null,
   "id": "3e11e99c-e8b2-48b7-93a0-bcb777196211",
   "metadata": {},
   "outputs": [],
   "source": []
  }
 ],
 "metadata": {
  "kernelspec": {
   "display_name": "Python 3 (ipykernel)",
   "language": "python",
   "name": "python3"
  },
  "language_info": {
   "codemirror_mode": {
    "name": "ipython",
    "version": 3
   },
   "file_extension": ".py",
   "mimetype": "text/x-python",
   "name": "python",
   "nbconvert_exporter": "python",
   "pygments_lexer": "ipython3",
   "version": "3.12.7"
  }
 },
 "nbformat": 4,
 "nbformat_minor": 5
}
